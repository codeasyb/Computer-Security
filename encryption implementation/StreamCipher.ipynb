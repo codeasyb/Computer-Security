{
 "cells": [
  {
   "cell_type": "code",
   "execution_count": 1,
   "metadata": {},
   "outputs": [],
   "source": [
    "def linearCongruentialMethod(Xo, m, a, c, randomNums, noOfRandomNums): \n",
    "  \n",
    "    # Initialize the seed state \n",
    "    randomNums[0] = Xo \n",
    "  \n",
    "    # Traverse to generate required \n",
    "    # numbers of random numbers \n",
    "    for i in range(1, noOfRandomNums): \n",
    "          \n",
    "        # Follow the linear congruential method \n",
    "        randomNums[i] = ((randomNums[i - 1] * a) +c) % m"
   ]
  },
  {
   "cell_type": "code",
   "execution_count": 2,
   "metadata": {},
   "outputs": [],
   "source": [
    "def hash_djb2(s):                                                                                                                                \n",
    "    hash = 5381\n",
    "    for x in s:\n",
    "        hash = (( hash << 5) + hash) + ord(x)\n",
    "    return hash & 0xFFFFFFFF\n",
    "\n"
   ]
  },
  {
   "cell_type": "code",
   "execution_count": 4,
   "metadata": {},
   "outputs": [],
   "source": [
    "string = \"monkey01\"\n",
    "plaintext = \"ABCDE\""
   ]
  },
  {
   "cell_type": "code",
   "execution_count": 5,
   "metadata": {},
   "outputs": [
    {
     "name": "stdout",
     "output_type": "stream",
     "text": [
      "1845189089629089958742363699030584907013401 222 191 140 213 234 219 120 81 182 "
     ]
    }
   ],
   "source": [
    "#Modulus = 256 (1 byte)\n",
    "#Multiplier = 1103515245\n",
    "#Increment = 12345\n",
    "\n",
    "# Seed value \n",
    "Xo = len(string) \n",
    "# Modulus parameter \n",
    "m = 256     \n",
    "# Multiplier term \n",
    "a = 1103515245    \n",
    "# Increment term \n",
    "c = 12345 \n",
    "# Number of Random numbers \n",
    "# to be generated \n",
    "noOfRandomNums = len(string) \n",
    "# To store random numbers \n",
    "randomNums = [0] * (noOfRandomNums)\n",
    "\n",
    "linearCongruentialMethod(Xo, m, a, c, randomNums, noOfRandomNums)\n",
    "\n",
    "for i in randomNums:\n",
    "    print(i, end = \" \")\n",
    "    \n",
    "hash1 = hex(hash_djb2(string)"
   ]
  },
  {
   "cell_type": "code",
   "execution_count": null,
   "metadata": {},
   "outputs": [],
   "source": [
    "cletter = []\n",
    "cnt1 = 0\n",
    "for i in randomNums:\n",
    "    cletter.append(chr(ord(string[cnt1])^i))\n",
    "    cnt1 = cnt1 + 1\n",
    "print(cletter)\n",
    "s3 = \"\".join(cletter)\n",
    "print(s3)"
   ]
  },
  {
   "cell_type": "code",
   "execution_count": null,
   "metadata": {},
   "outputs": [],
   "source": [
    "dletter = []\n",
    "cnt1 = 0\n",
    "for i in randomNums:\n",
    "    dletter.append(chr(ord(s3[cnt1])^i))\n",
    "    cnt1 = cnt1 + 1\n",
    "print(dletter)\n",
    "dtext = \"\".join(dletter)\n",
    "print(dtext)"
   ]
  }
 ],
 "metadata": {
  "kernelspec": {
   "display_name": "Python 3",
   "language": "python",
   "name": "python3"
  },
  "language_info": {
   "codemirror_mode": {
    "name": "ipython",
    "version": 3
   },
   "file_extension": ".py",
   "mimetype": "text/x-python",
   "name": "python",
   "nbconvert_exporter": "python",
   "pygments_lexer": "ipython3",
   "version": "3.7.3"
  }
 },
 "nbformat": 4,
 "nbformat_minor": 4
}
