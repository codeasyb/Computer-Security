{
 "cells": [
  {
   "cell_type": "code",
   "execution_count": 1,
   "metadata": {},
   "outputs": [],
   "source": [
    "def linearCongruentialMethod(Xo, m, a, c, randomNums, noOfRandomNums): \n",
    "  \n",
    "    # Initialize the seed state \n",
    "    randomNums[0] = Xo \n",
    "  \n",
    "    # Traverse to generate required \n",
    "    # numbers of random numbers \n",
    "    for i in range(1, noOfRandomNums): \n",
    "          \n",
    "        # Follow the linear congruential method \n",
    "        randomNums[i] = ((randomNums[i - 1] * a) +c) % m"
   ]
  },
  {
   "cell_type": "code",
   "execution_count": 2,
   "metadata": {},
   "outputs": [],
   "source": [
    "def hash_djb2(s):                                                                                                                                \n",
    "    hash = 5381\n",
    "    for x in s:\n",
    "        hash = (( hash << 5) + hash) + ord(x)\n",
    "    return hash & 0xFFFFFFFF\n"
   ]
  },
  {
   "cell_type": "code",
   "execution_count": 3,
   "metadata": {},
   "outputs": [],
   "source": [
    "string = \"monkey01\"\n",
    "plaintext = \"ABCDE\"\n",
    "keystreamblock = []\n",
    "Xo = len(string) \n",
    "# Modulus parameter \n",
    "m = 256     \n",
    "# Multiplier term \n",
    "a = 1103515245    \n",
    "# Increment term \n",
    "c = 12345 \n",
    "# Number of Random numbers \n",
    "# to be generated \n",
    "noOfRandomNums = len(string) \n",
    "# To store random numbers \n",
    "randomNums = [0] * (noOfRandomNums)\n",
    "for i in range(16):\n",
    "    rgen = linearCongruentialMethod(Xo, m, a, c, randomNums, noOfRandomNums)\n",
    "    keystreamblock.append(rgen)"
   ]
  },
  {
   "cell_type": "code",
   "execution_count": 4,
   "metadata": {},
   "outputs": [
    {
     "ename": "TypeError",
     "evalue": "'<' not supported between instances of 'int' and 'list'",
     "output_type": "error",
     "traceback": [
      "\u001b[0;31m---------------------------------------------------------------------------\u001b[0m",
      "\u001b[0;31mTypeError\u001b[0m                                 Traceback (most recent call last)",
      "\u001b[0;32m<ipython-input-4-96c96ee65c7a>\u001b[0m in \u001b[0;36m<module>\u001b[0;34m\u001b[0m\n\u001b[1;32m      1\u001b[0m \u001b[0;34m\u001b[0m\u001b[0m\n\u001b[1;32m      2\u001b[0m \u001b[0mi\u001b[0m\u001b[0;34m=\u001b[0m\u001b[0;36m0\u001b[0m\u001b[0;34m\u001b[0m\u001b[0;34m\u001b[0m\u001b[0m\n\u001b[0;32m----> 3\u001b[0;31m \u001b[0;32mwhile\u001b[0m \u001b[0mi\u001b[0m \u001b[0;34m<\u001b[0m \u001b[0mkeystreamblock\u001b[0m\u001b[0;34m:\u001b[0m\u001b[0;34m\u001b[0m\u001b[0;34m\u001b[0m\u001b[0m\n\u001b[0m\u001b[1;32m      4\u001b[0m     \u001b[0mfirst\u001b[0m \u001b[0;34m=\u001b[0m \u001b[0mkeystreamblock\u001b[0m\u001b[0;34m[\u001b[0m\u001b[0mi\u001b[0m\u001b[0;34m]\u001b[0m \u001b[0;34m&\u001b[0m \u001b[0;36m0xf\u001b[0m\u001b[0;34m\u001b[0m\u001b[0;34m\u001b[0m\u001b[0m\n\u001b[1;32m      5\u001b[0m     \u001b[0msecond\u001b[0m \u001b[0;34m=\u001b[0m \u001b[0;34m(\u001b[0m\u001b[0mkeystreamblock\u001b[0m\u001b[0;34m[\u001b[0m\u001b[0mi\u001b[0m\u001b[0;34m]\u001b[0m \u001b[0;34m>>\u001b[0m \u001b[0;36m4\u001b[0m\u001b[0;34m)\u001b[0m \u001b[0;34m&\u001b[0m \u001b[0;36m0xf\u001b[0m\u001b[0;34m\u001b[0m\u001b[0;34m\u001b[0m\u001b[0m\n",
      "\u001b[0;31mTypeError\u001b[0m: '<' not supported between instances of 'int' and 'list'"
     ]
    }
   ],
   "source": [
    "\n",
    "i=0\n",
    "while i < keystreamblock:\n",
    "    first = keystreamblock[i] & 0xf\n",
    "    second = (keystreamblock[i] >> 4) & 0xf\n",
    "    swap(block[first], block[second])\n"
   ]
  },
  {
   "cell_type": "code",
   "execution_count": null,
   "metadata": {},
   "outputs": [],
   "source": []
  }
 ],
 "metadata": {
  "kernelspec": {
   "display_name": "Python 3",
   "language": "python",
   "name": "python3"
  },
  "language_info": {
   "codemirror_mode": {
    "name": "ipython",
    "version": 3
   },
   "file_extension": ".py",
   "mimetype": "text/x-python",
   "name": "python",
   "nbconvert_exporter": "python",
   "pygments_lexer": "ipython3",
   "version": "3.7.3"
  }
 },
 "nbformat": 4,
 "nbformat_minor": 4
}
