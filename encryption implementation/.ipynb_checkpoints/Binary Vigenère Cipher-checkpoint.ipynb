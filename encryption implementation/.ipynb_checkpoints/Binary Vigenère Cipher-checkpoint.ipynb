{
 "cells": [
  {
   "cell_type": "code",
   "execution_count": 1,
   "metadata": {
    "scrolled": true
   },
   "outputs": [
    {
     "name": "stdout",
     "output_type": "stream",
     "text": [
      "[['A', 'B', 'C', 'D', 'E', 'F', 'G', 'H', 'I', 'J', 'K', 'L', 'M', 'N', 'O', 'P', 'Q', 'R', 'S', 'T', 'U', 'V', 'W', 'X', 'Y', 'Z'], ['B', 'C', 'D', 'E', 'F', 'G', 'H', 'I', 'J', 'K', 'L', 'M', 'N', 'O', 'P', 'Q', 'R', 'S', 'T', 'U', 'V', 'W', 'X', 'Y', 'Z', 'A'], ['C', 'D', 'E', 'F', 'G', 'H', 'I', 'J', 'K', 'L', 'M', 'N', 'O', 'P', 'Q', 'R', 'S', 'T', 'U', 'V', 'W', 'X', 'Y', 'Z', 'A', 'B'], ['D', 'E', 'F', 'G', 'H', 'I', 'J', 'K', 'L', 'M', 'N', 'O', 'P', 'Q', 'R', 'S', 'T', 'U', 'V', 'W', 'X', 'Y', 'Z', 'A', 'B', 'C'], ['E', 'F', 'G', 'H', 'I', 'J', 'K', 'L', 'M', 'N', 'O', 'P', 'Q', 'R', 'S', 'T', 'U', 'V', 'W', 'X', 'Y', 'Z', 'A', 'B', 'C', 'D'], ['F', 'G', 'H', 'I', 'J', 'K', 'L', 'M', 'N', 'O', 'P', 'Q', 'R', 'S', 'T', 'U', 'V', 'W', 'X', 'Y', 'Z', 'A', 'B', 'C', 'D', 'E'], ['G', 'H', 'I', 'J', 'K', 'L', 'M', 'N', 'O', 'P', 'Q', 'R', 'S', 'T', 'U', 'V', 'W', 'X', 'Y', 'Z', 'A', 'B', 'C', 'D', 'E', 'F'], ['H', 'I', 'J', 'K', 'L', 'M', 'N', 'O', 'P', 'Q', 'R', 'S', 'T', 'U', 'V', 'W', 'X', 'Y', 'Z', 'A', 'B', 'C', 'D', 'E', 'F', 'G'], ['I', 'J', 'K', 'L', 'M', 'N', 'O', 'P', 'Q', 'R', 'S', 'T', 'U', 'V', 'W', 'X', 'Y', 'Z', 'A', 'B', 'C', 'D', 'E', 'F', 'G', 'H'], ['J', 'K', 'L', 'M', 'N', 'O', 'P', 'Q', 'R', 'S', 'T', 'U', 'V', 'W', 'X', 'Y', 'Z', 'A', 'B', 'C', 'D', 'E', 'F', 'G', 'H', 'I'], ['K', 'L', 'M', 'N', 'O', 'P', 'Q', 'R', 'S', 'T', 'U', 'V', 'W', 'X', 'Y', 'Z', 'A', 'B', 'C', 'D', 'E', 'F', 'G', 'H', 'I', 'J'], ['L', 'M', 'N', 'O', 'P', 'Q', 'R', 'S', 'T', 'U', 'V', 'W', 'X', 'Y', 'Z', 'A', 'B', 'C', 'D', 'E', 'F', 'G', 'H', 'I', 'J', 'K'], ['M', 'N', 'O', 'P', 'Q', 'R', 'S', 'T', 'U', 'V', 'W', 'X', 'Y', 'Z', 'A', 'B', 'C', 'D', 'E', 'F', 'G', 'H', 'I', 'J', 'K', 'L'], ['N', 'O', 'P', 'Q', 'R', 'S', 'T', 'U', 'V', 'W', 'X', 'Y', 'Z', 'A', 'B', 'C', 'D', 'E', 'F', 'G', 'H', 'I', 'J', 'K', 'L', 'M'], ['O', 'P', 'Q', 'R', 'S', 'T', 'U', 'V', 'W', 'X', 'Y', 'Z', 'A', 'B', 'C', 'D', 'E', 'F', 'G', 'H', 'I', 'J', 'K', 'L', 'M', 'N'], ['P', 'Q', 'R', 'S', 'T', 'U', 'V', 'W', 'X', 'Y', 'Z', 'A', 'B', 'C', 'D', 'E', 'F', 'G', 'H', 'I', 'J', 'K', 'L', 'M', 'N', 'O'], ['Q', 'R', 'S', 'T', 'U', 'V', 'W', 'X', 'Y', 'Z', 'A', 'B', 'C', 'D', 'E', 'F', 'G', 'H', 'I', 'J', 'K', 'L', 'M', 'N', 'O', 'P'], ['R', 'S', 'T', 'U', 'V', 'W', 'X', 'Y', 'Z', 'A', 'B', 'C', 'D', 'E', 'F', 'G', 'H', 'I', 'J', 'K', 'L', 'M', 'N', 'O', 'P', 'Q'], ['S', 'T', 'U', 'V', 'W', 'X', 'Y', 'Z', 'A', 'B', 'C', 'D', 'E', 'F', 'G', 'H', 'I', 'J', 'K', 'L', 'M', 'N', 'O', 'P', 'Q', 'R'], ['T', 'U', 'V', 'W', 'X', 'Y', 'Z', 'A', 'B', 'C', 'D', 'E', 'F', 'G', 'H', 'I', 'J', 'K', 'L', 'M', 'N', 'O', 'P', 'Q', 'R', 'S'], ['U', 'V', 'W', 'X', 'Y', 'Z', 'A', 'B', 'C', 'D', 'E', 'F', 'G', 'H', 'I', 'J', 'K', 'L', 'M', 'N', 'O', 'P', 'Q', 'R', 'S', 'T'], ['V', 'W', 'X', 'Y', 'Z', 'A', 'B', 'C', 'D', 'E', 'F', 'G', 'H', 'I', 'J', 'K', 'L', 'M', 'N', 'O', 'P', 'Q', 'R', 'S', 'T', 'U'], ['W', 'X', 'Y', 'Z', 'A', 'B', 'C', 'D', 'E', 'F', 'G', 'H', 'I', 'J', 'K', 'L', 'M', 'N', 'O', 'P', 'Q', 'R', 'S', 'T', 'U', 'V'], ['X', 'Y', 'Z', 'A', 'B', 'C', 'D', 'E', 'F', 'G', 'H', 'I', 'J', 'K', 'L', 'M', 'N', 'O', 'P', 'Q', 'R', 'S', 'T', 'U', 'V', 'W'], ['Y', 'Z', 'A', 'B', 'C', 'D', 'E', 'F', 'G', 'H', 'I', 'J', 'K', 'L', 'M', 'N', 'O', 'P', 'Q', 'R', 'S', 'T', 'U', 'V', 'W', 'X'], ['Z', 'A', 'B', 'C', 'D', 'E', 'F', 'G', 'H', 'I', 'J', 'K', 'L', 'M', 'N', 'O', 'P', 'Q', 'R', 'S', 'T', 'U', 'V', 'W', 'X', 'Y']]\n"
     ]
    }
   ],
   "source": [
    "row_num = 26\n",
    "col_num = 26\n",
    "list1 = ['A','B','C','D','E','F','G','H','I','J','K','L','M','N','O','P','Q','R','S','T','U','V','W','X','Y','Z']\n",
    "multi_list = [[0 for col in range(col_num)] for row in range(row_num)]\n",
    "cnt1 = 0\n",
    "cnt2 = 0\n",
    "for row in range(row_num):\n",
    "    cnt1 = cnt2\n",
    "    for col in range(col_num):\n",
    "        multi_list[row][col]= list1[cnt1%len(list1)]\n",
    "        cnt1 = cnt1 + 1\n",
    "    cnt2 = cnt2+1\n",
    "\n",
    "print(multi_list)"
   ]
  },
  {
   "cell_type": "code",
   "execution_count": 2,
   "metadata": {},
   "outputs": [
    {
     "name": "stdout",
     "output_type": "stream",
     "text": [
      "AEIOU\n"
     ]
    }
   ],
   "source": [
    "file = open('keys.txt')\n",
    "keyfile = file.readlines()\n",
    "print(keyfile[0].rstrip('\\n'))\n",
    "key1 = keyfile[0].rstrip('\\n')"
   ]
  },
  {
   "cell_type": "code",
   "execution_count": 3,
   "metadata": {},
   "outputs": [
    {
     "name": "stdout",
     "output_type": "stream",
     "text": [
      "GEEKSFORGEEKS\n",
      "AEIOUAEIOUAEI\n"
     ]
    }
   ],
   "source": [
    "string = \"GEEKSFORGEEKS\"\n",
    "cnt = 0\n",
    "while len(key1) < len(string):\n",
    "    key1 = key1+key1[cnt]\n",
    "    cnt = cnt +1\n",
    "print(string)\n",
    "print(key1)"
   ]
  },
  {
   "cell_type": "code",
   "execution_count": 4,
   "metadata": {},
   "outputs": [
    {
     "name": "stdout",
     "output_type": "stream",
     "text": [
      "[6, 4, 4, 10, 18, 5, 14, 17, 6, 4, 4, 10, 18]\n",
      "[0, 4, 8, 14, 20, 0, 4, 8, 14, 20, 0, 4, 8]\n"
     ]
    }
   ],
   "source": [
    "mlist = []\n",
    "klist = []\n",
    "for i in string:\n",
    "    count = 0\n",
    "    for j in list1:\n",
    "        if i == j:\n",
    "            mlist.append(count)\n",
    "        count = count +1\n",
    "for i in key1:\n",
    "    count = 0\n",
    "    for k in list1:\n",
    "        if i == k:\n",
    "            klist.append(count)\n",
    "        count = count +1\n",
    "print(mlist)\n",
    "print(klist)"
   ]
  },
  {
   "cell_type": "code",
   "execution_count": 5,
   "metadata": {},
   "outputs": [
    {
     "name": "stdout",
     "output_type": "stream",
     "text": [
      "['G', 'I', 'M', 'Y', 'M', 'F', 'S', 'Z', 'U', 'Y', 'E', 'O', 'A']\n",
      "GIMYMFSZUYEOA\n"
     ]
    }
   ],
   "source": [
    "encryptedtext = []\n",
    "cnt3 = 0\n",
    "for i in range(len(mlist)):\n",
    "    encryptedtext.append(multi_list[mlist[cnt3]][klist[cnt3]])\n",
    "    cnt3 = cnt3+1\n",
    "print(encryptedtext)\n",
    "separator = ''\n",
    "etext = separator.join(encryptedtext)\n",
    "print(etext)"
   ]
  },
  {
   "cell_type": "code",
   "execution_count": 52,
   "metadata": {},
   "outputs": [
    {
     "name": "stdout",
     "output_type": "stream",
     "text": [
      "[6, 4, 4, 10, 18, 5, 14, 17, 6, 4, 4, 10, 18]\n",
      "['G', 'E', 'E', 'K', 'S', 'F', 'O', 'R', 'G', 'E', 'E', 'K', 'S']\n",
      "GEEKSFORGEEKS\n"
     ]
    }
   ],
   "source": [
    "decryptedindex = []\n",
    "decryptedtext = []\n",
    "cnt3 = 0\n",
    "i = 0\n",
    "for i in range(len(klist)):\n",
    "    #print(multi_list[klist[cnt3]])\n",
    "    if encryptedtext[cnt3] in multi_list[klist[cnt3]]:\n",
    "        index = multi_list[klist[cnt3]].index(encryptedtext[cnt3])\n",
    "        decryptedindex.append(index)\n",
    "    cnt3 = cnt3 +1\n",
    "print(decryptedindex)\n",
    "\n",
    "for a in decryptedindex:\n",
    "    if a == 0:\n",
    "        decryptedtext.append('A')\n",
    "    elif a == 1:\n",
    "        decryptedtext.append('B')\n",
    "    elif a == 2:\n",
    "        decryptedtext.append('C')\n",
    "    elif a == 3:\n",
    "        decryptedtext.append('D')\n",
    "    elif a == 4:\n",
    "        decryptedtext.append('E')\n",
    "    elif a == 5:\n",
    "        decryptedtext.append('F')\n",
    "    elif a == 6:\n",
    "        decryptedtext.append('G')\n",
    "    elif a == 7:\n",
    "        decryptedtext.append('H')\n",
    "    elif a == 8:\n",
    "        decryptedtext.append('I')\n",
    "    elif a == 9:\n",
    "        decryptedtext.append('J')\n",
    "    elif a == 10:\n",
    "        decryptedtext.append('K')\n",
    "    elif a == 11:\n",
    "        decryptedtext.append('L')\n",
    "    elif a == 12:\n",
    "        decryptedtext.append('M')\n",
    "    elif a == 13:\n",
    "        decryptedtext.append('N')\n",
    "    elif a == 14:\n",
    "        decryptedtext.append('O')\n",
    "    elif a == 15:\n",
    "        decryptedtext.append('P')\n",
    "    elif a == 16:\n",
    "        decryptedtext.append('Q')\n",
    "    elif a == 17:\n",
    "        decryptedtext.append('R')\n",
    "    elif a == 18:\n",
    "        decryptedtext.append('S')\n",
    "    elif a == 19:\n",
    "        decryptedtext.append('T')\n",
    "    elif a == 20:\n",
    "        decryptedtext.append('U')\n",
    "    elif a == 21:\n",
    "        decryptedtext.append('V')\n",
    "    elif a == 22:\n",
    "        decryptedtext.append('W')\n",
    "    elif a == 23:\n",
    "        decryptedtext.append('X')\n",
    "    elif a == 24:\n",
    "        decryptedtext.append('Y')\n",
    "    elif a == 25:\n",
    "        decryptedtext.append('Z')\n",
    "print(decryptedtext)\n",
    "separator = ''\n",
    "dtext = separator.join(decryptedtext)\n",
    "print(dtext)"
   ]
  }
 ],
 "metadata": {
  "kernelspec": {
   "display_name": "Python 3",
   "language": "python",
   "name": "python3"
  },
  "language_info": {
   "codemirror_mode": {
    "name": "ipython",
    "version": 3
   },
   "file_extension": ".py",
   "mimetype": "text/x-python",
   "name": "python",
   "nbconvert_exporter": "python",
   "pygments_lexer": "ipython3",
   "version": "3.7.3"
  }
 },
 "nbformat": 4,
 "nbformat_minor": 4
}
