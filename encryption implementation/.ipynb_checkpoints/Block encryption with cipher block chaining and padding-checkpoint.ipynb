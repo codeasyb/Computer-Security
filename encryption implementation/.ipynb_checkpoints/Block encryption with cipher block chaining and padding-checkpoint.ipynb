{
 "cells": [
  {
   "cell_type": "code",
   "execution_count": null,
   "metadata": {},
   "outputs": [],
   "source": [
    "def linearCongruentialMethod(Xo, m, a, c, randomNums, noOfRandomNums): \n",
    "  \n",
    "    # Initialize the seed state \n",
    "    randomNums[0] = Xo \n",
    "  \n",
    "    # Traverse to generate required \n",
    "    # numbers of random numbers \n",
    "    for i in range(1, noOfRandomNums): \n",
    "          \n",
    "        # Follow the linear congruential method \n",
    "        randomNums[i] = ((randomNums[i - 1] * a) +c) % m"
   ]
  },
  {
   "cell_type": "code",
   "execution_count": null,
   "metadata": {},
   "outputs": [],
   "source": [
    "def hash_djb2(s):                                                                                                                                \n",
    "    hash = 5381\n",
    "    for x in s:\n",
    "        hash = (( hash << 5) + hash) + ord(x)\n",
    "    return hash & 0xFFFFFFFF\n"
   ]
  },
  {
   "cell_type": "code",
   "execution_count": null,
   "metadata": {},
   "outputs": [],
   "source": [
    "string = \"monkey01\"\n",
    "plaintext = \"ABCDE\"\n",
    "keystreamblock = []\n",
    "Xo = len(string) \n",
    "# Modulus parameter \n",
    "m = 256     \n",
    "# Multiplier term \n",
    "a = 1103515245    \n",
    "# Increment term \n",
    "c = 12345 \n",
    "# Number of Random numbers \n",
    "# to be generated \n",
    "noOfRandomNums = len(string) \n",
    "# To store random numbers \n",
    "randomNums = [0] * (noOfRandomNums)\n",
    "for i in range(16):\n",
    "    rgen = linearCongruentialMethod(Xo, m, a, c, randomNums, noOfRandomNums)\n",
    "    keystreamblock.append(rgen)"
   ]
  },
  {
   "cell_type": "code",
   "execution_count": null,
   "metadata": {},
   "outputs": [],
   "source": [
    "\n",
    "i=0\n",
    "while i < keystreamblock:\n",
    "    first = keystreamblock[i] & 0xf\n",
    "    second = (keystreamblock[i] >> 4) & 0xf\n",
    "    swap(block[first], block[second])\n"
   ]
  }
 ],
 "metadata": {
  "kernelspec": {
   "display_name": "Python 3",
   "language": "python",
   "name": "python3"
  },
  "language_info": {
   "codemirror_mode": {
    "name": "ipython",
    "version": 3
   },
   "file_extension": ".py",
   "mimetype": "text/x-python",
   "name": "python",
   "nbconvert_exporter": "python",
   "pygments_lexer": "ipython3",
   "version": "3.7.3"
  }
 },
 "nbformat": 4,
 "nbformat_minor": 4
}
